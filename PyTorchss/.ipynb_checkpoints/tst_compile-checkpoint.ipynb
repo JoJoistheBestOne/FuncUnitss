{
 "cells": [
  {
   "cell_type": "markdown",
   "id": "c92ffa54-63cc-469b-8fb6-c5e1be48a627",
   "metadata": {},
   "source": [
    "torch.compile 是 PyTorch 2.0 版本中引入的一个新特性，它允许用户将 PyTorch 代码编译为优化的内核，从而提高模型的运行效率。这个特性利用了 PyTorch 的 JIT 编译器，可以在不牺牲灵活性的前提下，显著提升模型的推理和训练速度。\n",
    "\n",
    "以下是一个使用 torch.compile 的测试例子，包括了一个简单的模型定义、编译和性能测试的步骤："
   ]
  },
  {
   "cell_type": "code",
   "execution_count": 5,
   "id": "237bf3e0-3a7f-4d4c-9b47-d4550871c3f3",
   "metadata": {},
   "outputs": [
    {
     "name": "stdout",
     "output_type": "stream",
     "text": [
      "Eager mode inference time: 0.1847376823425293 seconds\n"
     ]
    },
    {
     "name": "stderr",
     "output_type": "stream",
     "text": [
      "/root/miniconda3/envs/llava/lib/python3.10/site-packages/torch/_inductor/compile_fx.py:140: UserWarning: TensorFloat32 tensor cores for float32 matrix multiplication available but not enabled. Consider setting `torch.set_float32_matmul_precision('high')` for better performance.\n",
      "  warnings.warn(\n"
     ]
    },
    {
     "name": "stdout",
     "output_type": "stream",
     "text": [
      "Compiled mode inference time: 9.169508695602417 seconds\n",
      "Speedup: 0.020146955357720223\n"
     ]
    }
   ],
   "source": [
    "import torch\n",
    "import torchvision.models as models\n",
    "import time\n",
    "\n",
    "# 确保使用的是支持 torch.compile 的 PyTorch 版本\n",
    "assert torch.__version__ >= '2.0'\n",
    "\n",
    "# 定义一个简单的模型，这里以 torchvision 中的 resnet18 为例\n",
    "model = models.resnet18()\n",
    "\n",
    "# 将模型转移到 GPU 上\n",
    "device = torch.device('cuda' if torch.cuda.is_available() else 'cpu')\n",
    "model.to(device)\n",
    "\n",
    "# 定义一个优化的编译模式，这里使用的是 'inductor' 后端\n",
    "# 注意：需要安装对应的后端库，例如 'torchtriton'，才能使用特定的编译器\n",
    "# compiler = torch.utils.benchmark.get_compiler()\n",
    "# compiled_model = torch.compile(model, mode=compiler, backend='inductor')\n",
    "compiled_model = torch.compile(model)\n",
    "\n",
    "# 准备输入数据\n",
    "input_data = torch.randn(1, 3, 224, 224).to(device)\n",
    "\n",
    "# 测试原始模型的推理时间\n",
    "start_time = time.time()\n",
    "with torch.no_grad():\n",
    "    output = model(input_data)\n",
    "elapsed_time_eager = time.time() - start_time\n",
    "print(f'Eager mode inference time: {elapsed_time_eager} seconds')\n",
    "\n",
    "# 测试编译后的模型的推理时间\n",
    "start_time = time.time()\n",
    "with torch.no_grad():\n",
    "    output = compiled_model(input_data)\n",
    "elapsed_time_compiled = time.time() - start_time\n",
    "print(f'Compiled mode inference time: {elapsed_time_compiled} seconds')\n",
    "\n",
    "# 比较两种模式的性能\n",
    "print(f'Speedup: {elapsed_time_eager / elapsed_time_compiled}')"
   ]
  },
  {
   "cell_type": "raw",
   "id": "c6515b86-85d4-495a-81f3-c05c249d36b3",
   "metadata": {},
   "source": [
    "import torch\n",
    "import torch.nn as nn\n",
    "\n",
    "# Define a simple model\n",
    "class SimpleModel(nn.Module):\n",
    "    def __init__(self):\n",
    "        super(SimpleModel, self).__init__()\n",
    "        self.linear = nn.Linear(10, 10)\n",
    "\n",
    "    def forward(self, x):\n",
    "        return self.linear(x)\n",
    "\n",
    "# Create the model\n",
    "model = SimpleModel()\n",
    "\n",
    "# Optimize the model using torch.compile\n",
    "optimized_model = torch.compile(model)\n",
    "\n",
    "# Prepare input data\n",
    "input_data = torch.randn(1, 10)\n",
    "\n",
    "# Run the model\n",
    "output = optimized_model(input_data)\n",
    "print(output)\n"
   ]
  },
  {
   "cell_type": "code",
   "execution_count": null,
   "id": "c70c74ad-c6c4-4084-bc21-ad299f36a44c",
   "metadata": {},
   "outputs": [],
   "source": []
  }
 ],
 "metadata": {
  "kernelspec": {
   "display_name": "llava_py3",
   "language": "python",
   "name": "llava"
  },
  "language_info": {
   "codemirror_mode": {
    "name": "ipython",
    "version": 3
   },
   "file_extension": ".py",
   "mimetype": "text/x-python",
   "name": "python",
   "nbconvert_exporter": "python",
   "pygments_lexer": "ipython3",
   "version": "3.10.14"
  }
 },
 "nbformat": 4,
 "nbformat_minor": 5
}
